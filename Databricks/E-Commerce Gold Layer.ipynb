{
 "cells": [
  {
   "cell_type": "code",
   "execution_count": 0,
   "metadata": {
    "application/vnd.databricks.v1+cell": {
     "cellMetadata": {
      "byteLimit": 2048000,
      "rowLimit": 10000
     },
     "inputWidgets": {},
     "nuid": "060894af-d1c6-4821-8b12-3c7f528f1044",
     "showTitle": false,
     "title": ""
    }
   },
   "outputs": [],
   "source": [
    "from pyspark.sql import SparkSession\n",
    "from pyspark.sql.functions import sum, avg, col,monotonically_increasing_id \n",
    "\n",
    "spark = SparkSession.builder.appName(\"GoldLayerCreation\").getOrCreate()"
   ]
  },
  {
   "cell_type": "code",
   "execution_count": 0,
   "metadata": {
    "application/vnd.databricks.v1+cell": {
     "cellMetadata": {
      "byteLimit": 2048000,
      "rowLimit": 10000
     },
     "inputWidgets": {},
     "nuid": "a3c17d76-b4df-4c93-a23a-9b7fc3743668",
     "showTitle": false,
     "title": ""
    }
   },
   "outputs": [],
   "source": [
    "silver_sellers = spark.read.format(\"delta\").load(\"/mnt/delta/tables/silver/sellers\")\n",
    "silver_buyers = spark.read.format(\"delta\").load(\"/mnt/delta/tables/silver/buyers\")\n",
    "silver_users = spark.read.format(\"delta\").load(\"/mnt/delta/tables/silver/users\")\n",
    "silver_countries = spark.read.format(\"delta\").load(\"/mnt/delta/tables/silver/countries\")\n"
   ]
  },
  {
   "cell_type": "code",
   "execution_count": 0,
   "metadata": {
    "application/vnd.databricks.v1+cell": {
     "cellMetadata": {
      "byteLimit": 2048000,
      "rowLimit": 10000
     },
     "inputWidgets": {},
     "nuid": "b6d42aed-2f16-4ef7-8c25-c07d7f9800bc",
     "showTitle": false,
     "title": ""
    }
   },
   "outputs": [],
   "source": [
    "comprehensive_user_table = silver_users \\\n",
    "    .join(silver_countries, [\"country\"], \"outer\") \\\n",
    "    .join(silver_buyers, [\"country\"], \"outer\") \\\n",
    "    .join(silver_sellers, [\"country\"], \"outer\")"
   ]
  },
  {
   "cell_type": "code",
   "execution_count": 0,
   "metadata": {
    "application/vnd.databricks.v1+cell": {
     "cellMetadata": {
      "byteLimit": 2048000,
      "rowLimit": 10000
     },
     "inputWidgets": {},
     "nuid": "32202488-5a20-4480-ae8a-a2c245ca0a21",
     "showTitle": false,
     "title": ""
    }
   },
   "outputs": [],
   "source": [
    "comprehensive_user_table = comprehensive_user_table.select(\n",
    "    silver_users[\"country\"].alias(\"Country\"),\n",
    "    # From silver_users\n",
    "    silver_users[\"productsSold\"].alias(\"Users_productsSold\"),\n",
    "    silver_users[\"productsWished\"].alias(\"Users_productsWished\"),\n",
    "    silver_users[\"account_age_years\"].alias(\"Users_account_age_years\"),\n",
    "    silver_users[\"account_age_group\"].alias(\"Users_account_age_group\"),\n",
    "    silver_users[\"socialnbfollowers\"].alias(\"Users_socialnbfollowers\"),\n",
    "    silver_users[\"flag_long_title\"].alias(\"Users_flag_long_title\"),\n",
    "    silver_countries[\"sellers\"].alias(\"Countries_Sellers\"),\n",
    "    silver_countries[\"topsellers\"].alias(\"Countries_TopSellers\"),\n",
    "    silver_countries[\"femalesellers\"].alias(\"Countries_FemaleSellers\"),\n",
    "    silver_countries[\"malesellers\"].alias(\"Countries_MaleSellers\"),\n",
    "    silver_countries[\"topfemalesellers\"].alias(\"Countries_TopFemaleSellers\"),\n",
    "    silver_countries[\"topmalesellers\"].alias(\"Countries_TopMaleSellers\"),\n",
    "    silver_buyers[\"buyers\"].alias(\"Buyers_Total\"),\n",
    "    silver_buyers[\"topbuyers\"].alias(\"Buyers_Top\"),\n",
    "    silver_buyers[\"femalebuyers\"].alias(\"Buyers_Female\"),\n",
    "    silver_buyers[\"malebuyers\"].alias(\"Buyers_Male\"),\n",
    "    silver_buyers[\"topfemalebuyers\"].alias(\"Buyers_TopFemale\"),\n",
    "    silver_buyers[\"topmalebuyers\"].alias(\"Buyers_TopMale\")\n",
    ")"
   ]
  },
  {
   "cell_type": "code",
   "execution_count": 0,
   "metadata": {
    "application/vnd.databricks.v1+cell": {
     "cellMetadata": {
      "byteLimit": 2048000,
      "rowLimit": 10000
     },
     "inputWidgets": {},
     "nuid": "44af5e97-4613-43ab-8189-3f1c1ff7f502",
     "showTitle": false,
     "title": ""
    }
   },
   "outputs": [
    {
     "output_type": "stream",
     "name": "stdout",
     "output_type": "stream",
     "text": [
      "+--------------+------------------+--------------------+-----------------------+-----------------------+-----------------------+---------------------+-----------------+--------------------+-----------------------+---------------------+--------------------------+------------------------+------------+----------+-------------+-----------+----------------+--------------+\n|Country       |Users_productsSold|Users_productsWished|Users_account_age_years|Users_account_age_group|Users_socialnbfollowers|Users_flag_long_title|Countries_Sellers|Countries_TopSellers|Countries_FemaleSellers|Countries_MaleSellers|Countries_TopFemaleSellers|Countries_TopMaleSellers|Buyers_Total|Buyers_Top|Buyers_Female|Buyers_Male|Buyers_TopFemale|Buyers_TopMale|\n+--------------+------------------+--------------------+-----------------------+-----------------------+-----------------------+---------------------+-----------------+--------------------+-----------------------+---------------------+--------------------------+------------------------+------------+----------+-------------+-----------+----------------+--------------+\n|Afghanistan   |0                 |0                   |8.77                   |Experienced            |5                      |false                |0                |0                   |0                      |0                    |0                         |0                       |0           |0         |0            |0          |0               |0             |\n|Afghanistan   |0                 |0                   |8.77                   |Experienced            |3                      |false                |0                |0                   |0                      |0                    |0                         |0                       |0           |0         |0            |0          |0               |0             |\n|Afghanistan   |0                 |0                   |8.75                   |Experienced            |3                      |false                |0                |0                   |0                      |0                    |0                         |0                       |0           |0         |0            |0          |0               |0             |\n|Afghanistan   |0                 |0                   |7.83                   |Experienced            |3                      |false                |0                |0                   |0                      |0                    |0                         |0                       |0           |0         |0            |0          |0               |0             |\n|Afghanistan   |0                 |0                   |7.83                   |Experienced            |3                      |false                |0                |0                   |0                      |0                    |0                         |0                       |0           |0         |0            |0          |0               |0             |\n|Afghanistan   |0                 |0                   |7.82                   |Experienced            |3                      |false                |0                |0                   |0                      |0                    |0                         |0                       |0           |0         |0            |0          |0               |0             |\n|Afghanistan   |0                 |0                   |7.82                   |Experienced            |3                      |false                |0                |0                   |0                      |0                    |0                         |0                       |0           |0         |0            |0          |0               |0             |\n|Afghanistan   |0                 |0                   |7.82                   |Experienced            |3                      |false                |0                |0                   |0                      |0                    |0                         |0                       |0           |0         |0            |0          |0               |0             |\n|Afghanistan   |0                 |0                   |7.82                   |Experienced            |3                      |false                |0                |0                   |0                      |0                    |0                         |0                       |0           |0         |0            |0          |0               |0             |\n|Afghanistan   |0                 |0                   |8.78                   |Experienced            |3                      |false                |0                |0                   |0                      |0                    |0                         |0                       |0           |0         |0            |0          |0               |0             |\n|Afghanistan   |0                 |0                   |8.77                   |Experienced            |5                      |false                |0                |0                   |0                      |0                    |0                         |0                       |0           |0         |0            |0          |0               |0             |\n|Afghanistan   |0                 |0                   |8.75                   |Experienced            |3                      |false                |0                |0                   |0                      |0                    |0                         |0                       |0           |0         |0            |0          |0               |0             |\n|Afghanistan   |0                 |0                   |7.83                   |Experienced            |3                      |false                |0                |0                   |0                      |0                    |0                         |0                       |0           |0         |0            |0          |0               |0             |\n|Afghanistan   |0                 |0                   |7.83                   |Experienced            |3                      |false                |0                |0                   |0                      |0                    |0                         |0                       |0           |0         |0            |0          |0               |0             |\n|Afghanistan   |0                 |0                   |8.77                   |Experienced            |3                      |false                |0                |0                   |0                      |0                    |0                         |0                       |0           |0         |0            |0          |0               |0             |\n|Afrique du Sud|0                 |0                   |8.78                   |Experienced            |3                      |false                |0                |0                   |0                      |0                    |0                         |0                       |0           |0         |0            |0          |0               |0             |\n|Afrique du Sud|0                 |26                  |8.77                   |Experienced            |12                     |false                |0                |0                   |0                      |0                    |0                         |0                       |0           |0         |0            |0          |0               |0             |\n|Afrique du Sud|0                 |0                   |8.76                   |Experienced            |3                      |false                |0                |0                   |0                      |0                    |0                         |0                       |0           |0         |0            |0          |0               |0             |\n|Afrique du Sud|0                 |0                   |8.76                   |Experienced            |3                      |false                |0                |0                   |0                      |0                    |0                         |0                       |0           |0         |0            |0          |0               |0             |\n|Afrique du Sud|0                 |15                  |8.76                   |Experienced            |15                     |false                |0                |0                   |0                      |0                    |0                         |0                       |0           |0         |0            |0          |0               |0             |\n+--------------+------------------+--------------------+-----------------------+-----------------------+-----------------------+---------------------+-----------------+--------------------+-----------------------+---------------------+--------------------------+------------------------+------------+----------+-------------+-----------+----------------+--------------+\nonly showing top 20 rows\n\n"
     ]
    }
   ],
   "source": [
    "comprehensive_user_table.fillna(0).show(20,truncate=False)"
   ]
  }
 ],
 "metadata": {
  "application/vnd.databricks.v1+notebook": {
   "dashboards": [],
   "environmentMetadata": null,
   "language": "python",
   "notebookMetadata": {
    "pythonIndentUnit": 4
   },
   "notebookName": "E-Commerce Gold Layer",
   "widgets": {}
  }
 },
 "nbformat": 4,
 "nbformat_minor": 0
}
